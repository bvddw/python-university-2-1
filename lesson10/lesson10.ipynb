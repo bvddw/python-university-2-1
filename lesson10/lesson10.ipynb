{
 "cells": [
  {
   "cell_type": "code",
   "execution_count": 22,
   "id": "initial_id",
   "metadata": {
    "collapsed": true,
    "ExecuteTime": {
     "end_time": "2023-11-14T08:45:25.675495200Z",
     "start_time": "2023-11-14T08:45:25.258150500Z"
    }
   },
   "outputs": [
    {
     "name": "stdout",
     "output_type": "stream",
     "text": [
      "t0 = 9/11\n",
      "Координати точки М = (-0.64,3.64,-1.82)\n"
     ]
    },
    {
     "data": {
      "text/plain": "(-4.0, 3.0)"
     },
     "execution_count": 22,
     "metadata": {},
     "output_type": "execute_result"
    }
   ],
   "source": [
    "%matplotlib qt \n",
    "import numpy as np\n",
    "import matplotlib.pyplot as plt\n",
    "from sympy import symbols,simplify,solve,lambdify\n",
    "plt.close('all')\n",
    "x,y,z,t = symbols('x y z t')\n",
    "F=x-2*y+5*z+17\n",
    "xt=-2*t+1\n",
    "yt=2*t+2\n",
    "zt=-t-1\n",
    "ff=F.subs([(x,xt),(y,yt),(z,zt)])\n",
    "eq=simplify(ff)\n",
    "[t0]=solve(eq,t)\n",
    "print('t0 =',t0)\n",
    "x0=xt.subs(t,t0)\n",
    "y0=yt.subs(t,t0)\n",
    "z0=zt.subs(t,t0)\n",
    "print('Координати точки М = (%4.2f,%4.2f,%4.2f)' % (x0,y0,z0))\n",
    "[zz]=solve(F,z)\n",
    "fz=lambdify((x,y),zz,'numpy')\n",
    "x= np.linspace(-4,3,61)\n",
    "y= np.linspace(0,7,61)\n",
    "X,Y=np.meshgrid(x,y)\n",
    "Z=fz(X,Y)\n",
    "fig = plt.figure()\n",
    "ax = fig.add_subplot(111, projection='3d')\n",
    "ax.plot_surface(X,Y,Z,rstride=10, cstride=10,color='c',alpha=0.5)\n",
    "ax.azim, ax.elev=15,15 # азимут і кутова висота точки спостереження\n",
    "Xt=lambdify(t,xt,'numpy')\n",
    "Yt=lambdify(t,yt,'numpy')\n",
    "Zt=lambdify(t,zt,'numpy')\n",
    "ti=np.linspace(-0.3,2,24)\n",
    "Xl=Xt(ti)\n",
    "Yl=Yt(ti)\n",
    "Zl=Zt(ti)\n",
    "ax.plot(Xl,Yl,Zl,linewidth=3,c='m')\n",
    "ax.scatter(x0,y0,z0,s=50,c='r')\n",
    "n=np.array([1,-2,5]) # вектор нормалі до площини P\n",
    "aL=np.array([-2,2,-1])\n",
    "\n",
    "al2=np.cross(aL,n)\n",
    "al1=np.cross(al2, n)\n",
    "\n",
    "n=n/np.linalg.norm(n) # одиничний вектор нормалі до площини P\n",
    "ax.quiver([x0],[y0],[z0],*(3*n),linewidth=2,color='b', arrow_length_ratio=0.25)\n",
    "\n",
    "xt1=al1[0]*t+x0\n",
    "yt1=al1[1]*t+y0\n",
    "zt1=al1[2]*t+z0\n",
    "Xt1=lambdify(t,xt1,'numpy')\n",
    "Yt1=lambdify(t,yt1,'numpy')\n",
    "Zt1=lambdify(t,zt1,'numpy')\n",
    "t1=np.linspace(-0.03,0.03,24)\n",
    "Xl1=Xt1(t1)\n",
    "Yl1=Yt1(t1)\n",
    "Zl1=Zt1(t1)\n",
    "ax.plot(Xl1,Yl1,Zl1,linewidth=3,c='black')\n",
    "\n",
    "\n",
    "xt2=al2[0]*t+x0\n",
    "yt2=al2[1]*t+y0\n",
    "zt2=al2[2]*t+z0\n",
    "Xt2=lambdify(t,xt2,'numpy')\n",
    "Yt2=lambdify(t,yt2,'numpy')\n",
    "Zt2=lambdify(t,zt2,'numpy')\n",
    "t2=np.linspace(-0.15, 0.15, 24)\n",
    "Xl2=Xt2(t2)\n",
    "Yl2=Yt2(t2)\n",
    "Zl2=Zt2(t2)\n",
    "ax.plot(Xl2,Yl2,Zl2,linewidth=3,c='black')\n",
    "\n",
    "ax.set_xlim(-4, 3)\n",
    "ax.set_ylim(0, 7)\n",
    "ax.set_zlim(-4, 3)"
   ]
  },
  {
   "cell_type": "code",
   "execution_count": 23,
   "outputs": [
    {
     "name": "stdout",
     "output_type": "stream",
     "text": [
      "Первісна =\n",
      "           2⋅x\n",
      "(2 - 3⋅x)⋅ℯ   \n",
      "Площа ≈ 1.3233\n"
     ]
    },
    {
     "data": {
      "text/plain": "(-5.0, 3.0)"
     },
     "execution_count": 23,
     "metadata": {},
     "output_type": "execute_result"
    }
   ],
   "source": [
    "import numpy as np\n",
    "import matplotlib.pyplot as plt\n",
    "from sympy import symbols,simplify,exp,lambdify,integrate,pprint\n",
    "plt.close('all')\n",
    "\n",
    "a=-1; b=0\n",
    "x=symbols('x')\n",
    "fx=(1-6*x)*exp(2*x)\n",
    "ix=simplify(integrate(fx, x))\n",
    "print('Первісна =');pprint(ix)\n",
    "s=integrate(fx, (x,a,b))\n",
    "print('Площа \\u2248 %6.4f'% s.evalf())\n",
    "\n",
    "xx=np.linspace(-4,4,121)\n",
    "f=lambdify(x,fx,'numpy')\n",
    "yf=f(xx)\n",
    "p=lambdify(x,ix,'numpy')\n",
    "yp=p(xx)\n",
    "\n",
    "fig, ax = plt.subplots(1, 1)\n",
    "ax.plot(xx,yf,'b',lw=3,label='f(x)') # графік функції\n",
    "ax.plot(xx,yp,'g',lw=3,label='\\u222Bf(x)dx') # графік первісної\n",
    "ax.legend(fontsize=12,loc='lower right' )\n",
    "ax.axhline(color='black') # відображення горизонтальної осі\n",
    "ax.axvline(color='black') # відображення вертикальної осі\n",
    "\n",
    "xs = np.linspace(a, b, num=21)\n",
    "ys=f(xs)\n",
    "y0=np.zeros(len(ys))\n",
    "ax.fill_between(xs, ys, y0, color='c')\n",
    "ax.set_xlim(-4, 4)\n",
    "ax.set_ylim(-5, 3)"
   ],
   "metadata": {
    "collapsed": false,
    "ExecuteTime": {
     "end_time": "2023-11-14T08:46:36.576080800Z",
     "start_time": "2023-11-14T08:46:36.172874100Z"
    }
   },
   "id": "601de956f07c7a84"
  },
  {
   "cell_type": "code",
   "execution_count": 24,
   "outputs": [
    {
     "name": "stdout",
     "output_type": "stream",
     "text": [
      "                        2                             \n",
      "           d           d                             x\n",
      "5⋅u(x) + 2⋅──(u(x)) + ───(u(x)) = (sin(x) + cos(x))⋅ℯ \n",
      "           dx           2                             \n",
      "                      dx                              \n",
      "Загальний розв'язок u(x)= (C1*sin(2*x) + C2*cos(2*x))*exp(-x) + sqrt(2)*(7*sin(x + pi/4) - 4*cos(x + pi/4))*exp(x)/65\n",
      "Окремий розв'язок y(x)= (sin(2*x) - cos(2*x))*exp(-x) + sqrt(2)*(7*sin(x + pi/4) - 4*cos(x + pi/4))*exp(x)/65\n"
     ]
    }
   ],
   "source": [
    "import numpy as np\n",
    "import matplotlib.pyplot as plt\n",
    "from sympy import symbols,lambdify,pprint,Function,Eq,exp,sin,cos,dsolve\n",
    "plt.close('all')\n",
    "x,y,C1,C2=symbols('x y C1 C2')\n",
    "u = Function('u')\n",
    "eq = Eq(u(x).diff(x,x)+2*u(x).diff(x)+5*u(x),(sin(x)+cos(x))*exp(x))\n",
    "pprint(eq)\n",
    "rez=dsolve(eq, u(x))\n",
    "print(\"Загальний розв'язок u(x)=\",rez.rhs)\n",
    "\n",
    "y=rez.rhs.subs([(C1,1),(C2,-1)])\n",
    "print(\"Окремий розв'язок y(x)=\",y)\n",
    "F=lambdify(x, y, \"numpy\")\n",
    "X=np.linspace(-3,1.1,61)\n",
    "Y=F(X)\n",
    "plt.plot(X,Y,'k',linewidth=3)\n",
    "plt.grid(True)"
   ],
   "metadata": {
    "collapsed": false,
    "ExecuteTime": {
     "end_time": "2023-11-14T08:46:54.246666900Z",
     "start_time": "2023-11-14T08:46:52.714438700Z"
    }
   },
   "id": "5f42df4f0337cde"
  },
  {
   "cell_type": "code",
   "execution_count": 25,
   "outputs": [
    {
     "name": "stdout",
     "output_type": "stream",
     "text": [
      "[-sqrt(4 - x**2)/2, sqrt(4 - x**2)/2]\n",
      "Маса платівки= 1\n"
     ]
    }
   ],
   "source": [
    "import matplotlib.pyplot as plt\n",
    "from sympy import symbols,integrate,And,solve,plot_implicit\n",
    "plt.close('all')\n",
    "x,y=symbols('x y')\n",
    "Fun=x**2/4+y**2\n",
    "plot_implicit(And(Fun<1,x>0,y>0), depth=2)\n",
    "fig=plt.gcf()\n",
    "ax=fig.gca()\n",
    "ax.axis('equal')\n",
    "ax.set_xlim(-1,3)\n",
    "ax.set_ylim(-1,2)\n",
    "x0=0; x1=2\n",
    "y0=0\n",
    "sols=solve(Fun-1,y)\n",
    "print(sols)\n",
    "y1=sols[1]\n",
    "mu=6*x**3*y**3\n",
    "m=integrate(mu,(y,y0,y1),(x,x0,x1))\n",
    "print('Маса платівки=',m)\n"
   ],
   "metadata": {
    "collapsed": false,
    "ExecuteTime": {
     "end_time": "2023-11-14T08:47:36.002836900Z",
     "start_time": "2023-11-14T08:47:34.894282200Z"
    }
   },
   "id": "cd0f6c39b540e89a"
  },
  {
   "cell_type": "code",
   "execution_count": null,
   "outputs": [],
   "source": [],
   "metadata": {
    "collapsed": false,
    "ExecuteTime": {
     "start_time": "2023-11-14T08:26:59.126053500Z"
    }
   },
   "id": "7d16cabd2de6cc0"
  }
 ],
 "metadata": {
  "kernelspec": {
   "display_name": "Python 3",
   "language": "python",
   "name": "python3"
  },
  "language_info": {
   "codemirror_mode": {
    "name": "ipython",
    "version": 2
   },
   "file_extension": ".py",
   "mimetype": "text/x-python",
   "name": "python",
   "nbconvert_exporter": "python",
   "pygments_lexer": "ipython2",
   "version": "2.7.6"
  }
 },
 "nbformat": 4,
 "nbformat_minor": 5
}
