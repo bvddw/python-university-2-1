{
 "cells": [
  {
   "cell_type": "code",
   "execution_count": 13,
   "id": "initial_id",
   "metadata": {
    "collapsed": true,
    "ExecuteTime": {
     "end_time": "2023-11-21T14:22:08.485061300Z",
     "start_time": "2023-11-21T14:22:08.320998500Z"
    }
   },
   "outputs": [
    {
     "name": "stdout",
     "output_type": "stream",
     "text": [
      "Точки перетину: -1.000  4.000\n",
      "Площа між кривими=114.5833\n",
      "1375/12 =  114.58333333333333\n"
     ]
    }
   ],
   "source": [
    "%matplotlib qt \n",
    "import numpy as np\n",
    "import matplotlib.pyplot as plt\n",
    "from scipy.optimize import fsolve\n",
    "from scipy.integrate import quad\n",
    "plt.close('all')\n",
    "f1=lambda x: 8+3*x**3\n",
    "f2=lambda x: x**4-2*x**2-6*x\n",
    "x = np.linspace(-2, 5, 31)\n",
    "y1=f1(x)\n",
    "y2=f2(x)\n",
    "fig = plt.figure(facecolor='white')\n",
    "plt.plot(x,y1,'k-',x,y2,'b-',linewidth=4)\n",
    "f =lambda x: f1(x)-f2(x)\n",
    "x1=fsolve(f,-1)[0]\n",
    "x2=fsolve(f,4)[0]\n",
    "print('Точки перетину: {:6.3f} {:6.3f}'.format(x1,x2))\n",
    "xf = np.linspace(x1, x2, 41)\n",
    "yu=f2(xf)\n",
    "yd=f1(xf)\n",
    "plt.fill_between(xf, yu, yd, color='c')\n",
    "s=quad(f, x1, x2)[0]\n",
    "print('Площа між кривими={:6.4f}'.format(s))\n",
    "print('1375/12 = ', 1375/12)"
   ]
  },
  {
   "cell_type": "code",
   "execution_count": 14,
   "outputs": [
    {
     "name": "stdout",
     "output_type": "stream",
     "text": [
      "Довжина дуги: 48.00000000000001\n"
     ]
    },
    {
     "data": {
      "text/plain": "Text(0.5, 1.0, 'Графік параметричного рівняння')"
     },
     "execution_count": 14,
     "metadata": {},
     "output_type": "execute_result"
    }
   ],
   "source": [
    "import sympy as sp\n",
    "import numpy as np\n",
    "from scipy.integrate import quad\n",
    "import matplotlib.pyplot as plt\n",
    "\n",
    "t = sp.symbols('t')\n",
    "x = 3 * (t - sp.sin(t))\n",
    "y = 3 * (1 - sp.cos(t))\n",
    "dx_dt = sp.diff(x, t)\n",
    "dy_dt = sp.diff(y, t)\n",
    "fl = sp.sqrt(dx_dt ** 2 + dy_dt ** 2)\n",
    "Fl = sp.lambdify(t, fl, 'numpy')\n",
    "t0 = 0\n",
    "t1 = 4 * np.pi\n",
    "L = quad(Fl, t0, t1)[0]\n",
    "print(\"Довжина дуги:\", L)\n",
    "\n",
    "# Перетворення в numpy-функції\n",
    "x_func = sp.lambdify(t, x, 'numpy')\n",
    "y_func = sp.lambdify(t, y, 'numpy')\n",
    "\n",
    "# Інтервал параметра t\n",
    "t_values1 = np.linspace(0, 4 * np.pi, 1000)\n",
    "t_values2 = np.linspace(-np.pi, 6 * np.pi, 1000)\n",
    "\n",
    "# Значення x та y на інтервалі\n",
    "x_values1 = x_func(t_values1)\n",
    "y_values1 = y_func(t_values1)\n",
    "\n",
    "x_values2 = x_func(t_values2)\n",
    "y_values2 = y_func(t_values2)\n",
    "\n",
    "# Побудова графіка\n",
    "fig, ax = plt.subplots()\n",
    "ax.plot(x_values2, y_values2, color='blue')  # синій колір\n",
    "ax.plot(x_values1, y_values1, color='red')  # червоний колір\n",
    "ax.set_title('Графік параметричного рівняння')"
   ],
   "metadata": {
    "collapsed": false,
    "ExecuteTime": {
     "end_time": "2023-11-21T14:22:21.602571200Z",
     "start_time": "2023-11-21T14:22:21.368621900Z"
    }
   },
   "id": "4dc3cf183b092e2a"
  },
  {
   "cell_type": "code",
   "execution_count": 15,
   "outputs": [],
   "source": [
    "import numpy as np\n",
    "import matplotlib.pyplot as plt\n",
    "from scipy.integrate import cumtrapz\n",
    "\n",
    "plt.close('all')\n",
    "\n",
    "def f(x):\n",
    "    return (4 * x + 3) * np.sin(5 * x)\n",
    "\n",
    "x = np.linspace(-3, 3, num=121)\n",
    "x0 = 0\n",
    "i0 = np.where(x == x0)[0][0]\n",
    "y = f(x)\n",
    "\n",
    "# Обчислення інтегралу\n",
    "C = 0\n",
    "yint = cumtrapz(y, x, initial=None) + C\n",
    "\n",
    "# Знаходження коефіцієнта k за визначенням первісної\n",
    "k1 = (yint[i0 + 1] - yint[i0]) / (x[i0+1] - x[i0])\n",
    "\n",
    "# Знаходження коефіцієнта k за наближеною формулою\n",
    "delta_x = 0.1\n",
    "k2 = f(x0)\n",
    "\n",
    "\n",
    "yd1 = yint[i0] + k1 * (x - x0)\n",
    "yd2 = yint[i0] + k2 * (x - x0)\n",
    "\n",
    "# Побудова графіків\n",
    "fig = plt.figure()\n",
    "\n",
    "plt.plot(x[1:], yint, 'k-', linewidth=3, label='∫f(x)dx')\n",
    "plt.plot(x, y, 'r', linewidth=3, label='f(x)')\n",
    "plt.plot(x, yd1, '--', color='blue', label='Tangent (Definite Integral)')\n",
    "plt.plot(x, yd2, '--', color='green', label='Tangent (Approximate Derivative)')\n",
    "plt.scatter(x0, yint[i0])\n",
    "\n",
    "plt.legend(fontsize=10, loc='upper left')\n",
    "plt.grid(True)\n",
    "plt.show()\n"
   ],
   "metadata": {
    "collapsed": false,
    "ExecuteTime": {
     "end_time": "2023-11-21T14:23:16.290016600Z",
     "start_time": "2023-11-21T14:23:16.156640900Z"
    }
   },
   "id": "8494abc99fcf7772"
  },
  {
   "cell_type": "code",
   "execution_count": 16,
   "outputs": [
    {
     "name": "stdout",
     "output_type": "stream",
     "text": [
      "Symbolic integral using sympy.integrate = 1.0\n",
      "Number integral using scipy.integrate.dblquad =  1.0\n",
      "Number integral using scipy.integrate.nquad =  1.0\n"
     ]
    }
   ],
   "source": [
    "import numpy as np\n",
    "import matplotlib.pyplot as plt\n",
    "from scipy.integrate import dblquad,nquad\n",
    "from sympy import symbols,sqrt,integrate\n",
    "plt.close('all')\n",
    "\n",
    "x, y = symbols('x y')\n",
    "f = 18 * x**2 * y**2 + 32 * x**3 * y**3\n",
    "g = -sqrt(x)\n",
    "h = x**3\n",
    "I_sympy = integrate(integrate(f, (y, g, h)), (x, 0, 1))\n",
    "print(\"Symbolic integral using sympy.integrate = {:.1f}\".format(I_sympy))\n",
    "\n",
    "f=lambda y,x: 18*x**2*y**2+32*x**3*y**3\n",
    "g=lambda x: -np.sqrt(x)\n",
    "h=lambda x: x**3\n",
    "I1=dblquad(f, 0, 1, g, h)\n",
    "print(\"Number integral using scipy.integrate.dblquad ={:5.3}\".format(I1[0]))\n",
    "xbnd=lambda : [0, 1]\n",
    "ybnd=lambda x:[g(x),h(x)]\n",
    "I2=nquad(f, [ybnd,xbnd])\n",
    "print(\"Number integral using scipy.integrate.nquad ={:5.3}\".format(I2[0]))\n",
    "xh = np.linspace(-1, 2, num=61)\n",
    "xg = np.linspace(0, 2, num=41)\n",
    "yg=g(xg)\n",
    "yh=h(xh)\n",
    "fig = plt.figure(facecolor='white')\n",
    "plt.plot(xg, yg, 'k-', xh, yh,'b-',linewidth=4 )\n",
    "xr = np.linspace(0, 1, num=21)\n",
    "yrg=g(xr)\n",
    "yrh=h(xr)\n",
    "plt.fill_between(xr, yrg, yrh, color='c')\n",
    "plt.grid(True)\n"
   ],
   "metadata": {
    "collapsed": false,
    "ExecuteTime": {
     "end_time": "2023-11-21T14:23:42.734474300Z",
     "start_time": "2023-11-21T14:23:42.476458600Z"
    }
   },
   "id": "9e53f1b555745455"
  },
  {
   "cell_type": "code",
   "execution_count": null,
   "outputs": [],
   "source": [],
   "metadata": {
    "collapsed": false
   },
   "id": "3160c4b6d77b17f5"
  }
 ],
 "metadata": {
  "kernelspec": {
   "display_name": "Python 3",
   "language": "python",
   "name": "python3"
  },
  "language_info": {
   "codemirror_mode": {
    "name": "ipython",
    "version": 2
   },
   "file_extension": ".py",
   "mimetype": "text/x-python",
   "name": "python",
   "nbconvert_exporter": "python",
   "pygments_lexer": "ipython2",
   "version": "2.7.6"
  }
 },
 "nbformat": 4,
 "nbformat_minor": 5
}
