{
 "cells": [
  {
   "cell_type": "code",
   "execution_count": 22,
   "id": "initial_id",
   "metadata": {
    "collapsed": true,
    "ExecuteTime": {
     "end_time": "2023-10-31T09:28:27.637155600Z",
     "start_time": "2023-10-31T09:28:27.522905Z"
    }
   },
   "outputs": [
    {
     "name": "stdout",
     "output_type": "stream",
     "text": [
      "Довжини сторін:\tAB=7.3485\tAC=11.2250\tBC=4.8990\n",
      "Кути трикутника:\tA=18.98 \tB=131.81 \tC=29.21\n",
      "Площа трикутника \tS=13.41641\n",
      "Довжина висоти:\tH=2.3905\n"
     ]
    }
   ],
   "source": [
    "%matplotlib qt \n",
    "import numpy as np\n",
    "import matplotlib.pyplot as plt\n",
    "from mpl_toolkits.mplot3d import Axes3D\n",
    "\n",
    "plt.close('all')\n",
    "A = np.array([-3, -7, -5])\n",
    "B = np.array([0, -1, -2])\n",
    "C = np.array([-2, 3, 0])\n",
    "X, Y, Z = zip(A, B, C, A)\n",
    "fig = plt.figure()\n",
    "ax = fig.add_subplot(111, projection='3d')\n",
    "ax.plot(X, Y, Z, linewidth=4, c='k')\n",
    "ax.azim, ax.elev = 45, 20\n",
    "AB = B - A\n",
    "AC = C - A\n",
    "BC = C - B\n",
    "LAB, LAC, LBC = map(np.linalg.norm, [AB, AC, BC])\n",
    "sL = 'Довжини сторін:\\tAB={:.4f}\\tAC={:.4f}\\tBC={:.4f}'.format(LAB, LAC, LBC)\n",
    "print(sL)\n",
    "\n",
    "\n",
    "def anglegrad(a, b):  # кут між векторами a,b в градусах\n",
    "    sp = np.dot(a, b)\n",
    "    la = np.linalg.norm(a)\n",
    "    lb = np.linalg.norm(b)\n",
    "    alph = np.arccos(sp / la / lb) * 180 / np.pi\n",
    "    return alph\n",
    "\n",
    "\n",
    "aA, aB, aC = map(anglegrad, [AB, -AB, AC], [AC, BC, BC])\n",
    "sA = 'Кути трикутника:\\tA={:.2f} \\tB={:.2f} \\tC={:.2f}'.format(aA,aB,aC)\n",
    "print(sA)\n",
    "S = np.linalg.norm(np.cross(AB, AC)) / 2\n",
    "print('Площа трикутника \\tS=%6.5f' % S)\n",
    "\n",
    "BA = A - B\n",
    "AC = C - A\n",
    "\n",
    "x = -BA.dot(AC) / AC.dot(AC)\n",
    "BD = BA + x * AC\n",
    "sH = 'Довжина висоти:\\tH={:.4f}'.format(np.linalg.norm(BD))\n",
    "print(sH)\n",
    "D = BD + B\n",
    "\n",
    "xD, yD, zD = zip(B, D)\n",
    "ax.plot(xD, yD, zD, linewidth=4, c='g')\n",
    "\n",
    "ax.scatter([D[0]], [D[1]], [D[2]], s=100, c='r')\n",
    "ax.set_box_aspect(aspect = (3,8,5))\n",
    "plt.show()\n"
   ]
  },
  {
   "cell_type": "code",
   "execution_count": 26,
   "outputs": [
    {
     "name": "stdout",
     "output_type": "stream",
     "text": [
      "Координати точки D:\t   -2.00     9.00     4.00\n",
      "Площа паралелограма \tS=48.91830\n"
     ]
    }
   ],
   "source": [
    "import numpy as np\n",
    "import matplotlib.pyplot as plt\n",
    "plt.close('all')\n",
    "A=np.array([-3, -7, -5])\n",
    "B=np.array([0, -1, -1])\n",
    "C=np.array([-5, 3, 0])\n",
    "AB=B-A\n",
    "AC=C-A\n",
    "D=A+(AB+AC) # координати вершини D\n",
    "print('Координати точки D:\\t%8.2f %8.2f %8.2f' % (D[0],D[1],D[2]))\n",
    "\n",
    "nrm=np.cross(AB,AC)\n",
    "S=np.linalg.norm(nrm)\n",
    "print('Площа паралелограма \\tS=%8.5f' % S)\n",
    "\n",
    "fig = plt.figure()\n",
    "ax = fig.add_subplot(111, projection='3d')\n",
    "X,Y,Z=zip(A,B,D,C,A)\n",
    "ax.plot(X,Y,Z,linewidth=4,c='k')\n",
    "ax.azim, ax.elev=60,15 # азимут і кутова висота точки спостереження\n",
    "ax.scatter(X,Y,Z,s=100,c='r')\n",
    "\n",
    "t= np.linspace(0,1,9)\n",
    "p,q=np.meshgrid(t,t)\n",
    "X=A[0]+p*AB[0]+q*AC[0]\n",
    "Y=A[1]+p*AB[1]+q*AC[1]\n",
    "Z=A[2]+p*AB[2]+q*AC[2]\n",
    "ax.plot_surface(X,Y,Z,rstride=1, cstride=2,color='c',alpha=0.3)\n",
    "E = (B + D) / 2\n",
    "xD, yD, zD = zip(A, E)\n",
    "ax.plot(xD, yD, zD, linewidth=4, c='g')\n",
    "ax.scatter([E[0]], [E[1]], [E[2]], s=100, c='r')\n",
    "ne=nrm/np.linalg.norm(nrm) # одиничний вектор нормалі\n",
    "ax.quiver(*E,*(5*ne),linewidth=2,color='b', arrow_length_ratio=0.25)\n",
    "plt.show()"
   ],
   "metadata": {
    "collapsed": false,
    "ExecuteTime": {
     "end_time": "2023-10-31T09:31:38.193781200Z",
     "start_time": "2023-10-31T09:31:37.964414800Z"
    }
   },
   "id": "8c66dbef9328215f"
  },
  {
   "cell_type": "code",
   "execution_count": 24,
   "outputs": [
    {
     "name": "stdout",
     "output_type": "stream",
     "text": [
      "Об’єм тетраедра \tV=12.00000\n",
      "Площа трикутника ABC\tS=10.39230\n",
      "Координати точки E: 2.6667 3.0000 1.3333\n"
     ]
    }
   ],
   "source": [
    "import numpy as np\n",
    "import matplotlib.pyplot as plt\n",
    "\n",
    "plt.close('all')\n",
    "\n",
    "A=np.array([5, 2, 0])\n",
    "B=np.array([2, 5, 0])\n",
    "C=np.array([1, 2, 4])\n",
    "D=np.array([-1, 1, 1])\n",
    "\n",
    "X,Y,Z=zip(A,B,C,A,D,B,C,D)\n",
    "fig = plt.figure()\n",
    "ax = fig.add_subplot(111, projection='3d')\n",
    "ax.plot(X,Y,Z,linewidth=4,c='k')\n",
    "\n",
    "AB=B-A\n",
    "AC=C-A\n",
    "AD=D-A\n",
    "mp=np.array([AB,AC,AD])\n",
    "V=np.abs(np.linalg.det(mp))/6\n",
    "print(\"Об’єм тетраедра \\tV=%8.5f\" % V)\n",
    "Nrm=np.cross(AB,AC)\n",
    "S=np.linalg.norm(Nrm)/2\n",
    "print('Площа трикутника ABC\\tS=%8.5f' % S)\n",
    "\n",
    "E = (A + B + C) / 3\n",
    "print('Координати точки E: %.4f %.4f %.4f' % (E[0], E[1], E[2]))\n",
    "xAE, yAE, zAE = zip(A, E)\n",
    "ax.plot(xAE, yAE, zAE, linewidth=4, c='g')\n",
    "\n",
    "xED,yED,zED=zip(D,E)\n",
    "ax.plot(xED,yED,zED,linewidth=4,c='g')\n",
    "ax.scatter(*E,s=100,c='r')\n",
    "\n",
    "plt.show()"
   ],
   "metadata": {
    "collapsed": false,
    "ExecuteTime": {
     "end_time": "2023-10-31T09:29:34.951170500Z",
     "start_time": "2023-10-31T09:29:34.801019500Z"
    }
   },
   "id": "b962415b63a6ae4c"
  },
  {
   "cell_type": "code",
   "execution_count": 6,
   "outputs": [
    {
     "name": "stdout",
     "output_type": "stream",
     "text": [
      "Координати центра кола:\t    0.34    0.36    0.94\n",
      "Площа трикутника \tS=7.34847\n"
     ]
    }
   ],
   "source": [
    "%matplotlib qt \n",
    "import numpy as np\n",
    "import matplotlib.pyplot as plt\n",
    "\n",
    "A = np.array([1, 2, -3])\n",
    "B = np.array([1, 0, 1])\n",
    "C = np.array([-2, -1, 6])\n",
    "\n",
    "fig = plt.figure()\n",
    "ax = fig.add_subplot(111, projection='3d')\n",
    "\n",
    "X, Y, Z = zip(A, B, C)\n",
    "ax.scatter(X, Y, Z, s=100, c='r')\n",
    "X, Y, Z = zip(A, B, C, A)\n",
    "ax.plot(X, Y, Z, linewidth=4, c='k')\n",
    "ax.azim, ax.elev = -120, 20\n",
    "\n",
    "d = np.array([B - A, C - A])\n",
    "detx = np.linalg.det(d[:, 1:])\n",
    "dety = np.linalg.det(d[:, [0, 2]])\n",
    "detz = np.linalg.det(d[:, 0:-1])\n",
    "\n",
    "x = np.linspace(-3, 3, 61)\n",
    "y = np.linspace(-3, 5, 81)\n",
    "X, Y = np.meshgrid(x, y)\n",
    "\n",
    "Z = A[2] + 1 / detz * ((Y - A[1]) * dety - (X - A[0]) * detx)\n",
    "ax.plot_surface(X, Y, Z, rstride=7, cstride=7, color='c', alpha=0.5)\n",
    "\n",
    "a = np.linalg.norm(C - B)  # довжина сторони протилежна A\n",
    "b = np.linalg.norm(C - A)  # довжина сторони протилежна B\n",
    "c = np.linalg.norm(B - A)  # довжина сторони протилежна C\n",
    "O = (a * A + b * B + c * C) / (a + b + c)  # координати центра кола\n",
    "\n",
    "print('Координати центра кола:\\t%8.2f%8.2f%8.2f' % (O[0], O[1], O[2]))\n",
    "S = np.linalg.norm(np.cross(B - A, C - A)) / 2\n",
    "print('Площа трикутника \\tS=%6.5f' % S)\n",
    "Nrm = np.cross(B - A, C - A)\n",
    "ax.scatter(*O, s=80, c='b')  # зображення точки центра\n",
    "s = (a + b + c) / 2\n",
    "Rc = np.sqrt((s - a) * (s - b) * (s - c) / s)\n",
    "ne = Nrm / np.linalg.norm(Nrm)  # одиничний вектор нормалі до площини\n",
    "va = (A - O) / np.linalg.norm(A - O)  # одиничний вектор 𝒂\n",
    "vb = np.cross(va, ne)  # одиничний вектор 𝒃\n",
    "t = np.linspace(0, 2 * np.pi, 51)\n",
    "\n",
    "xcircum, ycircum, zcircum = O[:, None] + Rc * va[:, None] * np.cos(t) + Rc * vb[:, None] * np.sin(t)\n",
    "\n",
    "ax.plot(xcircum, ycircum, zcircum, linewidth=3, c='m')\n",
    "ax.quiver(*O, *(-3 * ne), linewidth=2, color='b', arrow_length_ratio=0.25)\n",
    "ax.set_box_aspect(aspect = (6,6,15))\n",
    "plt.show()\n"
   ],
   "metadata": {
    "collapsed": false,
    "ExecuteTime": {
     "end_time": "2023-11-06T16:13:14.285163600Z",
     "start_time": "2023-11-06T16:13:14.097768200Z"
    }
   },
   "id": "542a1f9b36dfb894"
  },
  {
   "cell_type": "code",
   "execution_count": null,
   "outputs": [],
   "source": [],
   "metadata": {
    "collapsed": false
   },
   "id": "6a85dca2954424dc"
  },
  {
   "cell_type": "code",
   "execution_count": null,
   "outputs": [],
   "source": [],
   "metadata": {
    "collapsed": false
   },
   "id": "57482fd0459555c"
  }
 ],
 "metadata": {
  "kernelspec": {
   "display_name": "Python 3",
   "language": "python",
   "name": "python3"
  },
  "language_info": {
   "codemirror_mode": {
    "name": "ipython",
    "version": 2
   },
   "file_extension": ".py",
   "mimetype": "text/x-python",
   "name": "python",
   "nbconvert_exporter": "python",
   "pygments_lexer": "ipython2",
   "version": "2.7.6"
  }
 },
 "nbformat": 4,
 "nbformat_minor": 5
}
