{
 "cells": [
  {
   "cell_type": "code",
   "execution_count": 6,
   "id": "initial_id",
   "metadata": {
    "collapsed": true,
    "ExecuteTime": {
     "end_time": "2023-11-11T15:19:50.309995800Z",
     "start_time": "2023-11-11T15:19:50.032178500Z"
    }
   },
   "outputs": [
    {
     "name": "stdout",
     "output_type": "stream",
     "text": [
      "Рівняння похилої асимптоти: y= 2*x + 4\n",
      "Корені знаменника: [2]\n",
      "Границя = oo\n",
      "Рівняння вертикальної асимптоти: x= 2.0\n"
     ]
    }
   ],
   "source": [
    "%matplotlib qt \n",
    "import numpy as np\n",
    "import matplotlib.pyplot as plt\n",
    "from sympy import symbols, lambdify, solve, limit, oo\n",
    "import warnings\n",
    "\n",
    "plt.close('all')\n",
    "x, y = symbols('x y')\n",
    "f = (2 * x ** 2 - 6) / (x - 2)\n",
    "a = limit(f / x, x, oo)\n",
    "b = limit(f - a * x, x, oo)\n",
    "fasm = a * x + b\n",
    "print('Рівняння похилої асимптоти: y=', fasm)\n",
    "sols = solve(x - 2, x)\n",
    "print('Корені знаменника:', sols)\n",
    "print('Границя =', limit(f, x, sols[0]))\n",
    "F = lambdify(x, f, \"numpy\")\n",
    "X = np.linspace(-3, 7, 101)\n",
    "warnings.filterwarnings('ignore')  # не виводити попередження\n",
    "Y = F(X)\n",
    "plt.plot(X, Y, 'b', linewidth=3)\n",
    "Fasm = lambdify(x, fasm, \"numpy\")\n",
    "Yasm = Fasm(X)\n",
    "plt.plot(X, Yasm, linestyle='--', color='r')\n",
    "kl = np.where(Y == np.inf)[0][0]\n",
    "print('Рівняння вертикальної асимптоти: x=', X[kl])\n",
    "plt.vlines(X[kl], -15, 30, linestyle='--', color='r')\n",
    "plt.axhline(color='k')  # відображення горизонтальної осі\n",
    "plt.axvline(color='k')  # відображення вертикальної осі\n",
    "plt.grid(True)\n"
   ]
  },
  {
   "cell_type": "code",
   "execution_count": 7,
   "outputs": [
    {
     "name": "stdout",
     "output_type": "stream",
     "text": [
      "f'(x)= x*(4*x**4 - 3*x**2 + 14)*sqrt(x**6 + 12*x**4 + 48*x**2 + 64)/(15*sqrt(x**2 + 1)*(x**4 + 5*x**2 + 4)) \n",
      "f\"(x)= sqrt(x**6 + 12*x**4 + 48*x**2 + 64)*(12*x**8 + 53*x**6 + 54*x**4 - 120*x**2 + 56)/(15*sqrt(x**2 + 1)*(x**8 + 10*x**6 + 33*x**4 + 40*x**2 + 16))\n",
      "Дотична в точці x0 = 0.8\n"
     ]
    },
    {
     "data": {
      "text/plain": "(-3.865, 4.165, -7.821399022235953, 8.227774296388947)"
     },
     "execution_count": 7,
     "metadata": {},
     "output_type": "execute_result"
    }
   ],
   "source": [
    "import numpy as np\n",
    "import matplotlib.pyplot as plt\n",
    "from sympy import symbols,simplify,sqrt,diff,lambdify\n",
    "plt.close('all')\n",
    "x,y=symbols('x y')\n",
    "fx=(x ** 2 - 6) * sqrt((4 + x ** 2) ** 3) /(15*sqrt(1+x**2))\n",
    "f1x=simplify(diff(fx,x))\n",
    "f2x=simplify(diff(fx,x,x))\n",
    "print(\"f'(x)=\",f1x,'\\nf\"(x)=',f2x)\n",
    "F0=lambdify(x, fx, \"numpy\")\n",
    "F1=lambdify(x, f1x, \"numpy\")\n",
    "F2=lambdify(x, f2x, \"numpy\")\n",
    "X=np.linspace(-3.5,3.5,84)\n",
    "Y=F0(X)\n",
    "X1=np.linspace(-3,3,84)\n",
    "Y1=F1(X1)\n",
    "X2=np.linspace(-3,3,84)\n",
    "Y2=F2(X2)\n",
    "fig, ax = plt.subplots(1, 1)\n",
    "ax.plot(X,Y,'b',linewidth=3,label='f(x)')\n",
    "ax.plot(X1,Y1,'r',linewidth=3,label=\"f'(x)\")\n",
    "ax.plot(X2,Y2,'g',linewidth=3,label='f\"(x)')\n",
    "ax.legend(fontsize=12,loc='lower right' ) # loc='upper center'\n",
    "ax.grid(True)\n",
    "x0=0.8\n",
    "print(\"Дотична в точці x0 =\", x0)\n",
    "y0=F0(x0)\n",
    "ax.scatter(x0,y0,s=50,c='k')\n",
    "k=F1(x0)\n",
    "Xt=np.linspace(x0-3,x0+3,84)\n",
    "Yt=y0+k*(Xt-x0)\n",
    "normal_slope = -1 / k  # Угловой коэффициент нормали\n",
    "Xn = np.linspace(x0 - 2, x0 + 2, 84)  # Выберите диапазон для построения нормали\n",
    "Yn = y0 + normal_slope * (Xn - x0)  # Уравнение нормали\n",
    "ax.plot(Xt,Yt,Xn,Yn,'--k',linewidth=2)\n",
    "ax.axis('equal')"
   ],
   "metadata": {
    "collapsed": false,
    "ExecuteTime": {
     "end_time": "2023-11-11T15:19:50.883258200Z",
     "start_time": "2023-11-11T15:19:50.337616600Z"
    }
   },
   "id": "6c21741693aa36a8"
  },
  {
   "cell_type": "code",
   "execution_count": 10,
   "outputs": [
    {
     "name": "stdout",
     "output_type": "stream",
     "text": [
      "Point 1 - (-4, 27/11 - 2*sqrt(570)/11)\n",
      "Point 2 - (-3, 15/11 - 2*sqrt(345)/11)\n",
      "Point 3 - (-2, 3/11 - 2*sqrt(170)/11)\n",
      "Point 4 - (-1, -9/11 + 6*sqrt(5)/11)\n",
      "Point 5 - (3, -57/11 - 6*sqrt(5)/11)\n"
     ]
    }
   ],
   "source": [
    "import numpy as np\n",
    "import matplotlib.pyplot as plt\n",
    "from sympy import symbols, simplify, diff, lambdify\n",
    "plt.close('all')\n",
    "\n",
    "x, y = symbols('x y')\n",
    "F = 4*x**2 + 24*x*y + 11*y**2 + 64*x + 42*y + 51\n",
    "Fim = lambdify((x, y), F, 'numpy')\n",
    "\n",
    "xl = np.linspace(-6, 8, 400)\n",
    "yl = np.linspace(-8, 2, 400)\n",
    "X, Y = np.meshgrid(xl, yl)\n",
    "Z = Fim(X, Y)\n",
    "\n",
    "fig, ax = plt.subplots(1, 1)\n",
    "contours = ax.contour(X, Y, Z, levels=[0], colors='c', linewidths=2)\n",
    "ax.axis('equal')\n",
    "\n",
    "# Виберіть п'ять точок (x1, y1), (x2, y2), ..., (x5, y5)\n",
    "points = [(-4, solve(F.subs(x,-4),y)[0]), \n",
    "          (-3, solve(F.subs(x,-3),y)[0]),  \n",
    "          (-2, solve(F.subs(x,-2),y)[0]), \n",
    "          (-1, solve(F.subs(x,-1),y)[0]), \n",
    "          (3, solve(F.subs(x,3),y)[0]),]\n",
    "\n",
    "index = 1\n",
    "for point in points:\n",
    "    x0, y0 = point\n",
    "    print(f\"Point {index} - ({x0}, {y0})\")\n",
    "    index += 1\n",
    "    Fx = simplify(diff(F, x))\n",
    "    Fy = simplify(diff(F, y))\n",
    "    Fx0 = Fx.subs([(x, x0), (y, y0)])\n",
    "    Fy0 = Fy.subs([(x, x0), (y, y0)])\n",
    "    slope = -Fx0 / Fy0  # Slope of the tangent\n",
    "    normal_slope = Fy0 / Fx0  # Slope of the normal\n",
    "\n",
    "    tangent_line = lambda x: slope * (x - x0) + y0\n",
    "    normal_line = lambda x: normal_slope * (x - x0) + y0\n",
    "\n",
    "    x_values = np.linspace(x0 - 2, x0 + 2, 100)\n",
    "    tangent_values = [tangent_line(x) for x in x_values]\n",
    "    normal_values = [normal_line(x) for x in x_values]\n",
    "\n",
    "    # Plot the points, tangents, and normals\n",
    "    ax.scatter(x0, y0, c='r', s=100)\n",
    "    ax.plot(x_values, tangent_values, 'r--')\n",
    "    ax.plot(x_values, normal_values, 'b--')\n",
    "    \n",
    "x_scale = 1.0  # Змініть значення за потреби\n",
    "y_scale = 1.0  # Змініть значення за потреби\n",
    "ax.set_xlim(-4, 6)\n",
    "ax.set_ylim(-8, 2)\n",
    "plt.grid(True)\n",
    "plt.show()\n"
   ],
   "metadata": {
    "collapsed": false,
    "ExecuteTime": {
     "end_time": "2023-11-11T15:19:55.223711800Z",
     "start_time": "2023-11-11T15:19:54.232235400Z"
    }
   },
   "id": "afc0003534cfa838"
  },
  {
   "cell_type": "code",
   "execution_count": 2,
   "outputs": [
    {
     "name": "stdout",
     "output_type": "stream",
     "text": [
      "dz/dx = 3*x**2 - 3*y\n",
      "dz/dy = -3*x - 3*y**2\n",
      "Координати точки -0.30  0.30  0.22\n"
     ]
    }
   ],
   "source": [
    "%matplotlib qt \n",
    "import numpy as np\n",
    "import matplotlib.pyplot as plt\n",
    "from sympy import symbols, simplify, diff, lambdify\n",
    "plt.close('all')\n",
    "\n",
    "x, y = symbols('x y')\n",
    "zf = x**3 - y**3 - 3*x*y\n",
    "zx = simplify(diff(zf, x))\n",
    "zy = simplify(diff(zf, y))\n",
    "print(\"dz/dx =\", zx)\n",
    "print(\"dz/dy =\", zy)\n",
    "x0 = -0.3\n",
    "y0 = 0.3\n",
    "z0 = zf.subs([(x, x0), (y, y0)])\n",
    "print('Координати точки %5.2f %5.2f %5.2f' % (x0, y0, z0))\n",
    "zx0 = zx.subs([(x, x0), (y, y0)])\n",
    "zy0 = zy.subs([(x, x0), (y, y0)])\n",
    "F = lambdify((x, y), zf, 'numpy')\n",
    "xx = np.linspace(-1, 1, 21)\n",
    "yy = np.linspace(-1, 1, 21)\n",
    "X, Y = np.meshgrid(xx, yy)\n",
    "Z = F(X, Y)\n",
    "\n",
    "fig = plt.figure()\n",
    "ax = fig.add_subplot(111, projection='3d')\n",
    "ax.plot_wireframe(X, Y, Z, rstride=1, cstride=1, linewidth=1)\n",
    "P = np.array([x0, y0, z0], dtype='float')\n",
    "ax.plot([P[0]], [P[1]], [P[2]], c='r', marker='o', ms=10)\n",
    "n = np.array([zx0, zy0, -1], dtype='float')\n",
    "ax.quiver(P[0], P[1], P[2], -2 * n[0], -2 * n[1], -2 * n[2], linewidth=2, color='r', arrow_length_ratio=0.25)\n",
    "t1 = np.linspace(-1, 0.9, 21)\n",
    "xc1 = t1\n",
    "yc1 = t1 / t1 * y0\n",
    "zc1 = F(xc1, yc1)\n",
    "ax.plot(xc1, yc1, zc1, linewidth=3, c='k')\n",
    "\n",
    "t2 = np.linspace(-1, 0.9, 21)\n",
    "xc2 = t2 / t2 * x0\n",
    "yc2 = t2\n",
    "zc2 = F(xc2, yc2)\n",
    "ax.plot(xc2, yc2, zc2, linewidth=3, c='k')\n",
    "nc = np.array([0, -2, -2 * zy0], dtype='float')\n",
    "ax.quiver(P[0], P[1], P[2], nc[0], nc[1], nc[2], linewidth=2, color='m', arrow_length_ratio=0.25)\n",
    "\n",
    "nc = np.array([1, 0, zx0], dtype='float')\n",
    "ax.quiver(P[0], P[1], P[2], nc[0], nc[1], nc[2], linewidth=2, color='m', arrow_length_ratio=0.25)\n",
    "\n",
    "ax.set_xlim([0, 10])\n",
    "ax.set_xlim(-2, 2)\n",
    "ax.set_ylim(-2, 2)\n",
    "ax.set_zlim(-1, 3)\n",
    "ax.set_aspect('equal', 'box')"
   ],
   "metadata": {
    "collapsed": false,
    "ExecuteTime": {
     "end_time": "2023-11-14T08:44:19.670857800Z",
     "start_time": "2023-11-14T08:44:19.527415600Z"
    }
   },
   "id": "bbd4f967bba3ced"
  },
  {
   "cell_type": "code",
   "execution_count": 9,
   "outputs": [],
   "source": [],
   "metadata": {
    "collapsed": false,
    "ExecuteTime": {
     "end_time": "2023-11-11T15:19:52.152424100Z",
     "start_time": "2023-11-11T15:19:52.094459800Z"
    }
   },
   "id": "22d467f17ead03ab"
  }
 ],
 "metadata": {
  "kernelspec": {
   "display_name": "Python 3",
   "language": "python",
   "name": "python3"
  },
  "language_info": {
   "codemirror_mode": {
    "name": "ipython",
    "version": 2
   },
   "file_extension": ".py",
   "mimetype": "text/x-python",
   "name": "python",
   "nbconvert_exporter": "python",
   "pygments_lexer": "ipython2",
   "version": "2.7.6"
  }
 },
 "nbformat": 4,
 "nbformat_minor": 5
}
